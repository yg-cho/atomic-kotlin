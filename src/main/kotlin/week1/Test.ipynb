{
 "cells": [
  {
   "cell_type": "code",
   "source": [
    "val a = 5\n",
    "val b = 2.5\n",
    "println(a + b)"
   ],
   "metadata": {
    "collapsed": false,
    "ExecuteTime": {
     "end_time": "2025-08-06T00:21:01.848411Z",
     "start_time": "2025-08-06T00:21:01.762876Z"
    }
   },
   "outputs": [
    {
     "name": "stdout",
     "output_type": "stream",
     "text": [
      "7.5\n"
     ]
    }
   ],
   "execution_count": 3
  },
  {
   "metadata": {
    "ExecuteTime": {
     "end_time": "2025-08-06T00:21:03.379095Z",
     "start_time": "2025-08-06T00:21:03.327284Z"
    }
   },
   "cell_type": "code",
   "source": [
    "val s = \"Kotlin\"\n",
    "println(\"Hello $s!\")"
   ],
   "outputs": [
    {
     "name": "stdout",
     "output_type": "stream",
     "text": [
      "Hello Kotlin!\n"
     ]
    }
   ],
   "execution_count": 4
  },
  {
   "metadata": {
    "ExecuteTime": {
     "end_time": "2025-08-06T00:21:04.400051Z",
     "start_time": "2025-08-06T00:21:04.366278Z"
    }
   },
   "cell_type": "code",
   "source": [
    "val isDone = false\n",
    "println(\"Boolean\")"
   ],
   "outputs": [
    {
     "name": "stdout",
     "output_type": "stream",
     "text": [
      "Boolean\n"
     ]
    }
   ],
   "execution_count": 5
  },
  {
   "metadata": {
    "ExecuteTime": {
     "end_time": "2025-08-06T00:21:05.294870Z",
     "start_time": "2025-08-06T00:21:05.257606Z"
    }
   },
   "cell_type": "code",
   "source": [
    "val a: Char = 'A'\n",
    "println(a)"
   ],
   "outputs": [
    {
     "name": "stdout",
     "output_type": "stream",
     "text": [
      "A\n"
     ]
    }
   ],
   "execution_count": 6
  },
  {
   "metadata": {
    "ExecuteTime": {
     "end_time": "2025-08-06T00:21:06.554219Z",
     "start_time": "2025-08-06T00:21:06.490608Z"
    }
   },
   "cell_type": "code",
   "source": [
    "val x = 1.23\n",
    "println(x::class)\n",
    "println(x::class.simpleName)\n",
    "println(x::class.qualifiedName)"
   ],
   "outputs": [
    {
     "name": "stdout",
     "output_type": "stream",
     "text": [
      "class kotlin.Double\n",
      "Double\n",
      "kotlin.Double\n"
     ]
    }
   ],
   "execution_count": 7
  },
  {
   "metadata": {
    "ExecuteTime": {
     "end_time": "2025-08-06T00:21:08.366804Z",
     "start_time": "2025-08-06T00:21:08.332187Z"
    }
   },
   "cell_type": "code",
   "source": [
    "val a = Int.MAX_VALUE\n",
    "println(\"Int.Max_VALUE : \"+a)"
   ],
   "outputs": [
    {
     "name": "stdout",
     "output_type": "stream",
     "text": [
      "Int.Max_VALUE : 2147483647\n"
     ]
    }
   ],
   "execution_count": 8
  },
  {
   "metadata": {
    "ExecuteTime": {
     "end_time": "2025-08-06T00:21:10.432442Z",
     "start_time": "2025-08-06T00:21:10.386440Z"
    }
   },
   "cell_type": "code",
   "source": [
    "val s = \"value\"\n",
    "println(\"\"\"abcd\"\"\")\n",
    "println(\"s = \\\"$s\\\".\")\n",
    "println(\"\"\"s = \"$s\". \"\"\")\n",
    "println(\"\"\"특수문자를 넣거나, ${\"$\"}식별자나 ${\"$\"}식을 사용해 식의 값을 삽입할 수 있다.\"\"\")\n"
   ],
   "outputs": [
    {
     "name": "stdout",
     "output_type": "stream",
     "text": [
      "abcd\n",
      "s = \"value\".\n",
      "s = \"value\". \n",
      "특수문자를 넣거나, $식별자나 $식을 사용해 식의 값을 삽입할 수 있다.\n"
     ]
    }
   ],
   "execution_count": 9
  },
  {
   "metadata": {
    "ExecuteTime": {
     "end_time": "2025-08-06T00:21:13.001266Z",
     "start_time": "2025-08-06T00:21:12.961886Z"
    }
   },
   "cell_type": "code",
   "source": [
    "val x = 1\n",
    "println(\"Value is: $x + 1\")\n",
    "println(\"Value is: ${x+1}\")"
   ],
   "outputs": [
    {
     "name": "stdout",
     "output_type": "stream",
     "text": [
      "Value is: 1 + 1\n",
      "Value is: 2\n"
     ]
    }
   ],
   "execution_count": 10
  },
  {
   "metadata": {
    "ExecuteTime": {
     "end_time": "2025-08-06T00:21:14.270571Z",
     "start_time": "2025-08-06T00:21:14.195643Z"
    }
   },
   "cell_type": "code",
   "source": [
    "fun Score(x: Int) {\n",
    "    if( x >= 90) {\n",
    "        println(\"A\")\n",
    "    }\n",
    "    else if(x >= 80) {\n",
    "        println(\"B\")\n",
    "    } else {\n",
    "        println(\"C\")\n",
    "    }\n",
    "}\n",
    "\n",
    "Score(90)\n",
    "Score(80)\n",
    "Score(70)\n"
   ],
   "outputs": [
    {
     "name": "stdout",
     "output_type": "stream",
     "text": [
      "A\n",
      "B\n",
      "C\n"
     ]
    }
   ],
   "execution_count": 11
  },
  {
   "metadata": {
    "ExecuteTime": {
     "end_time": "2025-08-06T00:21:16.175723Z",
     "start_time": "2025-08-06T00:21:16.141046Z"
    }
   },
   "cell_type": "code",
   "source": [
    "for (i in 1..3) {\n",
    "    println(i)\n",
    "}\n"
   ],
   "outputs": [
    {
     "name": "stdout",
     "output_type": "stream",
     "text": [
      "1\n",
      "2\n",
      "3\n"
     ]
    }
   ],
   "execution_count": 12
  },
  {
   "metadata": {
    "ExecuteTime": {
     "end_time": "2025-08-06T00:21:17.718759Z",
     "start_time": "2025-08-06T00:21:17.662482Z"
    }
   },
   "cell_type": "code",
   "source": [
    "var i = 0\n",
    "while (i < 4){\n",
    "    println(i)\n",
    "    i++\n",
    "}\n",
    "println(\"Total : ${i}\")"
   ],
   "outputs": [
    {
     "name": "stdout",
     "output_type": "stream",
     "text": [
      "0\n",
      "1\n",
      "2\n",
      "3\n",
      "Total : 4\n"
     ]
    }
   ],
   "execution_count": 13
  },
  {
   "metadata": {
    "ExecuteTime": {
     "end_time": "2025-08-06T00:21:19.163742Z",
     "start_time": "2025-08-06T00:21:19.116501Z"
    }
   },
   "cell_type": "code",
   "source": [
    "var i = 1\n",
    "while (i <= 10){\n",
    "    if(i%2 == 0){\n",
    "        println(i)\n",
    "    }\n",
    "    i++\n",
    "}"
   ],
   "outputs": [
    {
     "name": "stdout",
     "output_type": "stream",
     "text": [
      "2\n",
      "4\n",
      "6\n",
      "8\n",
      "10\n"
     ]
    }
   ],
   "execution_count": 14
  },
  {
   "metadata": {
    "ExecuteTime": {
     "end_time": "2025-08-06T00:21:22.814616Z",
     "start_time": "2025-08-06T00:21:22.766165Z"
    }
   },
   "cell_type": "code",
   "source": [
    "var count = 0\n",
    "for(i in 1 .. 10) {\n",
    "    if(i % 2 != 0){\n",
    "        count = count + i\n",
    "        print(\"$count \")\n",
    "    }\n",
    "}"
   ],
   "outputs": [
    {
     "name": "stdout",
     "output_type": "stream",
     "text": [
      "1 4 9 16 25 "
     ]
    }
   ],
   "execution_count": 15
  },
  {
   "metadata": {
    "ExecuteTime": {
     "end_time": "2025-08-06T00:21:26.359494Z",
     "start_time": "2025-08-06T00:21:26.321050Z"
    }
   },
   "cell_type": "code",
   "source": [
    "val n = 7\n",
    "val result = if (n % 2 == 0) \"even\" else \"odd\"\n",
    "println(result)"
   ],
   "outputs": [
    {
     "name": "stdout",
     "output_type": "stream",
     "text": [
      "odd\n"
     ]
    }
   ],
   "execution_count": 16
  },
  {
   "metadata": {
    "ExecuteTime": {
     "end_time": "2025-08-06T00:21:27.558492Z",
     "start_time": "2025-08-06T00:21:27.496621Z"
    }
   },
   "cell_type": "code",
   "source": [
    "var sum = 0\n",
    "for( i in 1 .. 10) {\n",
    "    sum+=i\n",
    "}\n",
    "println(sum)"
   ],
   "outputs": [
    {
     "name": "stdout",
     "output_type": "stream",
     "text": [
      "55\n"
     ]
    }
   ],
   "execution_count": 17
  },
  {
   "metadata": {
    "ExecuteTime": {
     "end_time": "2025-08-06T00:21:28.776498Z",
     "start_time": "2025-08-06T00:21:28.740953Z"
    }
   },
   "cell_type": "code",
   "source": [
    "for(i in 10 downTo 1)  {\n",
    "    println(i)\n",
    "}"
   ],
   "outputs": [
    {
     "name": "stdout",
     "output_type": "stream",
     "text": [
      "10\n",
      "9\n",
      "8\n",
      "7\n",
      "6\n",
      "5\n",
      "4\n",
      "3\n",
      "2\n",
      "1\n"
     ]
    }
   ],
   "execution_count": 18
  }
 ],
 "metadata": {
  "kernelspec": {
   "display_name": "Kotlin",
   "language": "kotlin",
   "name": "kotlin"
  },
  "language_info": {
   "name": "kotlin",
   "version": "1.9.0",
   "mimetype": "text/x-kotlin",
   "file_extension": ".kt",
   "pygments_lexer": "kotlin",
   "codemirror_mode": "text/x-kotlin",
   "nbconvert_exporter": ""
  }
 },
 "nbformat": 4,
 "nbformat_minor": 0
}
